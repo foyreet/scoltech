{
 "cells": [
  {
   "cell_type": "markdown",
   "id": "e38a7719-aa81-42a9-a1fe-d4d9ed5859d6",
   "metadata": {},
   "source": [
    "## Визуализация и анализ результатов калибровки магнитометра"
   ]
  },
  {
   "cell_type": "code",
   "execution_count": 19,
   "id": "5f1404a5-6aff-4686-9508-c970202f4a0c",
   "metadata": {},
   "outputs": [],
   "source": [
    "import numpy as np\n",
    "import matplotlib.pyplot as plt\n",
    "import os\n",
    "from mpl_toolkits.mplot3d import Axes3D\n",
    "\n",
    "os.makedirs(\"figures\", exist_ok=True)\n"
   ]
  },
  {
   "cell_type": "markdown",
   "id": "00405510-134f-4673-a573-fbcbb5d098ca",
   "metadata": {},
   "source": [
    "### График эллипсоидов"
   ]
  },
  {
   "cell_type": "code",
   "execution_count": 20,
   "id": "1eee53b9-38eb-4c67-8a6b-0b9dc1ba967f",
   "metadata": {},
   "outputs": [],
   "source": [
    "def plot_ellipses(m_raw, m_calibrated, fname_prefix=\"figures/ellipse\"):\n",
    "    fig, axes = plt.subplots(1, 3, figsize=(18, 5))\n",
    "    titles = ['XY', 'YZ', 'ZX']\n",
    "    pairs = [(0, 1), (1, 2), (2, 0)]\n",
    "\n",
    "    for ax, (i, j), title in zip(axes, pairs, titles):\n",
    "        ax.scatter(m_raw[:, i], m_raw[:, j], alpha=0.3, s=5, label='Raw')\n",
    "        ax.scatter(m_calibrated[:, i], m_calibrated[:, j], alpha=0.3, s=5, label='Calibrated')\n",
    "        ax.set_xlabel(['X', 'Y', 'Z'][i])\n",
    "        ax.set_ylabel(['X', 'Y', 'Z'][j])\n",
    "        ax.set_title(f\"{title} projection\")\n",
    "        ax.axis('equal')\n",
    "        ax.legend()\n",
    "\n",
    "    plt.tight_layout()\n",
    "    plt.savefig(f\"{fname_prefix}_projections.png\")\n",
    "    plt.close()"
   ]
  },
  {
   "cell_type": "markdown",
   "id": "5773c843-fd4a-4a7e-b660-ec198f791182",
   "metadata": {},
   "source": [
    "### 3d Облако"
   ]
  },
  {
   "cell_type": "code",
   "execution_count": 21,
   "id": "004bd004-4763-4302-882e-92b231512bfa",
   "metadata": {},
   "outputs": [],
   "source": [
    "def plot_3d_clouds(m_raw, m_calibrated, fname=\"figures/cloud_3d.png\"):\n",
    "    fig = plt.figure(figsize=(12, 5))\n",
    "\n",
    "    ax1 = fig.add_subplot(121, projection='3d')\n",
    "    ax1.scatter(*m_raw.T, alpha=0.3, s=5)\n",
    "    ax1.set_title(\"Raw measurements\")\n",
    "\n",
    "    ax2 = fig.add_subplot(122, projection='3d')\n",
    "    ax2.scatter(*m_calibrated.T, alpha=0.3, s=5)\n",
    "    ax2.set_title(\"Calibrated measurements\")\n",
    "\n",
    "    plt.tight_layout()\n",
    "    plt.savefig(fname)\n",
    "    plt.close()"
   ]
  },
  {
   "cell_type": "markdown",
   "id": "278189d2-2605-49f1-8eba-49c0d40f4571",
   "metadata": {},
   "source": [
    "### Угловая ошибка между калиброванным и эталонным вектором"
   ]
  },
  {
   "cell_type": "code",
   "execution_count": 22,
   "id": "97b02821-d4b0-4552-84a3-2c9545b5058b",
   "metadata": {},
   "outputs": [],
   "source": [
    "def angular_error(m_cal, m_ref):\n",
    "    cos_angles = np.sum(m_cal * m_ref, axis=1) / (\n",
    "        np.linalg.norm(m_cal, axis=1) * np.linalg.norm(m_ref, axis=1)\n",
    "    )\n",
    "    cos_angles = np.clip(cos_angles, -1, 1)\n",
    "    angles_deg = np.arccos(cos_angles) * 180 / np.pi\n",
    "    return angles_deg\n",
    "\n",
    "def plot_angular_error(angles_deg, angle_labels, fname=\"figures/angular_error.png\"):\n",
    "    plt.figure()\n",
    "    plt.plot(angle_labels, angles_deg)\n",
    "    plt.xlabel(\"Угол (энкодер)\")\n",
    "    plt.ylabel(\"Ошибка направления (°)\")\n",
    "    plt.title(\"Угловая ошибка между калиброванным и эталонным вектором\")\n",
    "    plt.grid(True)\n",
    "    plt.savefig(fname)\n",
    "    plt.close()"
   ]
  },
  {
   "cell_type": "markdown",
   "id": "815a1087-9999-4df5-a686-c142a95c1fb4",
   "metadata": {},
   "source": [
    "### Норма магнитного вектора"
   ]
  },
  {
   "cell_type": "code",
   "execution_count": 23,
   "id": "ea1a4c06-919c-4cfa-baa0-5d22af443d7d",
   "metadata": {},
   "outputs": [],
   "source": [
    "def plot_vector_norms(m_raw, m_calibrated, m_ref, fname=\"figures/vector_norms.png\"):\n",
    "    plt.figure()\n",
    "    plt.plot(np.linalg.norm(m_raw, axis=1), label=\"Raw\")\n",
    "    plt.plot(np.linalg.norm(m_calibrated, axis=1), label=\"Calibrated\")\n",
    "    plt.hlines(np.linalg.norm(m_ref, axis=1).mean(), 0, len(m_raw), colors='k', linestyles='dashed', label='Ref mean')\n",
    "    plt.title(\"Норма магнитного вектора\")\n",
    "    plt.ylabel(\"нТл\")\n",
    "    plt.legend()\n",
    "    plt.grid(True)\n",
    "    plt.savefig(fname)\n",
    "    plt.close()"
   ]
  },
  {
   "cell_type": "markdown",
   "id": "bd588706-1545-4639-8b36-e0d364ca08ab",
   "metadata": {},
   "source": [
    "### Распределение ошибки после калибровки"
   ]
  },
  {
   "cell_type": "code",
   "execution_count": 24,
   "id": "f0e235f9-321c-42fb-8a0d-0fb77be921c1",
   "metadata": {},
   "outputs": [],
   "source": [
    "def plot_error_histogram(error, fname=\"figures/error_hist.png\"):\n",
    "    plt.figure()\n",
    "    plt.hist(error, bins=50, alpha=0.7)\n",
    "    plt.xlabel(\"Ошибка (нТл)\")\n",
    "    plt.ylabel(\"Частота\")\n",
    "    plt.title(\"Распределение ошибки после калибровки\")\n",
    "    plt.grid(True)\n",
    "    plt.savefig(fname)\n",
    "    plt.close()\n"
   ]
  },
  {
   "cell_type": "markdown",
   "id": "2a289aa3-7f34-47f8-88d4-a380a4d4b804",
   "metadata": {},
   "source": [
    "### Аппроксимация по осям"
   ]
  },
  {
   "cell_type": "code",
   "execution_count": 25,
   "id": "bb370c31-3ed0-494e-85a2-a1008fa125ba",
   "metadata": {},
   "outputs": [],
   "source": [
    "def plot_component_fit(M_ref, M_calibrated, fname=\"figures/calibration_plot.png\"):\n",
    "    plt.figure(figsize=(10, 5))\n",
    "    for i, label in enumerate(['X', 'Y', 'Z']):\n",
    "        plt.subplot(1, 3, i + 1)\n",
    "        plt.plot(M_ref[:, i], label=f\"Ref {label}\")\n",
    "        plt.plot(M_calibrated[:, i], '--', label=f\"Calibrated {label}\")\n",
    "        plt.title(f\"Аппроксимация по оси {label}\")\n",
    "        plt.legend()\n",
    "    plt.tight_layout()\n",
    "    plt.savefig(fname)\n",
    "    plt.close()"
   ]
  },
  {
   "cell_type": "markdown",
   "id": "0c4a058c-3f6a-4208-bd42-8e5e82f5678d",
   "metadata": {},
   "source": [
    "### Ошибка вектора по углу"
   ]
  },
  {
   "cell_type": "code",
   "execution_count": 26,
   "id": "d9eff0ab-a093-43cb-86ca-4429259e77d2",
   "metadata": {},
   "outputs": [],
   "source": [
    "def plot_error_vs_angle(error, angles, fname=\"figures/error_vs_angle.png\"):\n",
    "    plt.figure()\n",
    "    plt.plot(angles, error)\n",
    "    plt.title(\"Ошибка вектора по углу\")\n",
    "    plt.xlabel(\"Угол (°)\")\n",
    "    plt.ylabel(\"Ошибка (нТл)\")\n",
    "    plt.grid(True)\n",
    "    plt.savefig(fname)\n",
    "    plt.close()"
   ]
  },
  {
   "cell_type": "markdown",
   "id": "1a41366d-610f-4174-9c5d-f17140ddceca",
   "metadata": {},
   "source": [
    "### Сохранение всех визуализаций"
   ]
  },
  {
   "cell_type": "code",
   "execution_count": 27,
   "id": "da711040-c608-4b95-bbf7-151949470f3f",
   "metadata": {},
   "outputs": [],
   "source": [
    "def save_all_visualizations(m_raw, m_calibrated, m_ref, error, angle_labels):\n",
    "    plot_ellipses(m_raw, m_calibrated)\n",
    "    plot_3d_clouds(m_raw, m_calibrated)\n",
    "    plot_vector_norms(m_raw, m_calibrated, m_ref)\n",
    "    plot_error_histogram(error)\n",
    "    angles_deg = angular_error(m_calibrated, m_ref)\n",
    "    plot_angular_error(angles_deg, angle_labels)\n",
    "    plot_component_fit(m_ref, m_calibrated)\n",
    "    plot_error_vs_angle(error, angle_labels)"
   ]
  },
  {
   "cell_type": "code",
   "execution_count": null,
   "id": "79c48733-4eb5-4ab1-9529-9174f9c9620a",
   "metadata": {},
   "outputs": [],
   "source": []
  }
 ],
 "metadata": {
  "kernelspec": {
   "display_name": "Python 3 (ipykernel)",
   "language": "python",
   "name": "python3"
  },
  "language_info": {
   "codemirror_mode": {
    "name": "ipython",
    "version": 3
   },
   "file_extension": ".py",
   "mimetype": "text/x-python",
   "name": "python",
   "nbconvert_exporter": "python",
   "pygments_lexer": "ipython3",
   "version": "3.13.2"
  }
 },
 "nbformat": 4,
 "nbformat_minor": 5
}
