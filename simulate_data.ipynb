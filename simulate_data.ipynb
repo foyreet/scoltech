{
 "cells": [
  {
   "cell_type": "markdown",
   "id": "1a085f9b",
   "metadata": {},
   "source": [
    "# 🧪 Симуляция данных магнитометра\n",
    "\n",
    "Этот ноутбук моделирует данные эталонного и неоткалиброванного магнитометра для тестирования алгоритмов калибровки."
   ]
  },
  {
   "cell_type": "code",
   "execution_count": 22,
   "id": "c3eb3f91",
   "metadata": {},
   "outputs": [],
   "source": [
    "import numpy as np\n",
    "import pandas as pd\n",
    "from scipy.spatial.transform import Rotation as R\n",
    "import matplotlib.pyplot as plt\n",
    "%matplotlib inline"
   ]
  },
  {
   "cell_type": "markdown",
   "id": "4667515c-c9c0-42e7-9d30-7140c093a67c",
   "metadata": {},
   "source": [
    "### Смещение (bias), матрица искажения (A), чувствительность и шумы"
   ]
  },
  {
   "cell_type": "code",
   "execution_count": 23,
   "id": "5cdafd8c",
   "metadata": {},
   "outputs": [],
   "source": [
    "bias = np.array([100.0, -250.0, 600.0])  # нТл\n",
    "\n",
    "A = np.array([\n",
    "    [1.05, 0.02, 0.01],\n",
    "    [0.01, 0.98, -0.03],\n",
    "    [-0.01, 0.02, 1.02]\n",
    "])\n",
    "\n",
    "sensitivity = np.array([0.95, 1.03, 1.00]) \n",
    "noise_std = np.array([0.5, 0.5, 0.5])\n",
    "ref_noise_std = 0.2\n",
    "detection_threshold = 1.0\n",
    "rotate_axes = True"
   ]
  },
  {
   "cell_type": "markdown",
   "id": "55a5102a-4186-4eb7-b704-b7c2ba517d5e",
   "metadata": {},
   "source": [
    "### Направление и величина геомагнитного поля"
   ]
  },
  {
   "cell_type": "code",
   "execution_count": 24,
   "id": "3c5a627c",
   "metadata": {},
   "outputs": [
    {
     "name": "stdout",
     "output_type": "stream",
     "text": [
      "B_real = [16163.56093597  3429.77431316 46660.75380906]\n"
     ]
    }
   ],
   "source": [
    "B_magnitude = 49500  # нТл\n",
    "theta_deg = 70.5\n",
    "phi_deg = 11.98\n",
    "\n",
    "theta = np.radians(theta_deg)\n",
    "phi = np.radians(phi_deg)\n",
    "\n",
    "B_real = np.array([\n",
    "    B_magnitude * np.cos(theta) * np.cos(phi),\n",
    "    B_magnitude * np.cos(theta) * np.sin(phi),\n",
    "    B_magnitude * np.sin(theta)\n",
    "])\n",
    "\n",
    "print(\"B_real =\", B_real)"
   ]
  },
  {
   "cell_type": "markdown",
   "id": "5328254e-c8df-452e-accf-08b86132c6d2",
   "metadata": {},
   "source": [
    "### Углы поворота стола"
   ]
  },
  {
   "cell_type": "code",
   "execution_count": 25,
   "id": "9b5e45c6",
   "metadata": {},
   "outputs": [],
   "source": [
    "angles_deg = np.arange(0, 360, 10)\n",
    "angles_rad = np.radians(angles_deg)\n"
   ]
  },
  {
   "cell_type": "markdown",
   "id": "506f367c-5eea-4ca6-81b4-ef167b0a1571",
   "metadata": {},
   "source": [
    "### Симуляция поворота на поворотном столе"
   ]
  },
  {
   "cell_type": "code",
   "execution_count": 26,
   "id": "d258de7b-6393-4b48-93f2-aaa652218ffd",
   "metadata": {},
   "outputs": [],
   "source": [
    "M_ref = np.array([\n",
    "    [\n",
    "        B_real[0] * np.cos(a) - B_real[1] * np.sin(a),\n",
    "        B_real[0] * np.sin(a) + B_real[1] * np.cos(a),\n",
    "        B_real[2]\n",
    "    ]\n",
    "    for a in angles_rad\n",
    "])"
   ]
  },
  {
   "cell_type": "markdown",
   "id": "ed01371a-eec4-4412-bbbf-e74ef0ce8078",
   "metadata": {},
   "source": [
    "### Дополнительный поворот осей"
   ]
  },
  {
   "cell_type": "code",
   "execution_count": 27,
   "id": "2836d2cd",
   "metadata": {},
   "outputs": [],
   "source": [
    "if rotate_axes:\n",
    "    rot_matrix = R.from_euler('xyz', [2, -1, 3], degrees=True).as_matrix()\n",
    "    M_ref = M_ref @ rot_matrix.T"
   ]
  },
  {
   "cell_type": "markdown",
   "id": "5266261e-6462-4dbc-be9f-3e5753542a00",
   "metadata": {},
   "source": [
    "### Добавление шума и порог чувствительности"
   ]
  },
  {
   "cell_type": "code",
   "execution_count": 28,
   "id": "6a4cbf85",
   "metadata": {},
   "outputs": [],
   "source": [
    "ref_noise = np.random.normal(0, ref_noise_std, M_ref.shape)\n",
    "M_ref_noisy = M_ref + ref_noise\n",
    "M_ref_final = np.where(np.abs(M_ref_noisy) < detection_threshold, 0, M_ref_noisy)"
   ]
  },
  {
   "cell_type": "markdown",
   "id": "49f6917a-f226-454b-9c80-8807519ae88d",
   "metadata": {},
   "source": [
    "### Симуляция неоткалиброванного магнитометра"
   ]
  },
  {
   "cell_type": "code",
   "execution_count": 29,
   "id": "bf9f4de9",
   "metadata": {},
   "outputs": [],
   "source": [
    "bias_temp = np.tile(bias, (len(angles_deg), 1))\n",
    "sensitivity_temp = np.tile(sensitivity, (len(angles_deg), 1))\n",
    "\n",
    "M_raw = M_ref_final * sensitivity_temp\n",
    "M_raw = (M_raw @ A.T) + bias_temp\n",
    "\n",
    "noise = np.random.normal(0, noise_std, M_ref.shape)\n",
    "M_raw += noise"
   ]
  },
  {
   "cell_type": "markdown",
   "id": "c985140a-46eb-42d5-970d-8ef4dc118c1b",
   "metadata": {},
   "source": [
    "### Сохранение в CSV"
   ]
  },
  {
   "cell_type": "code",
   "execution_count": 30,
   "id": "a0f1cf02",
   "metadata": {},
   "outputs": [
    {
     "name": "stdout",
     "output_type": "stream",
     "text": [
      "✅ Данные сохранены в calibration_data.csv\n"
     ]
    }
   ],
   "source": [
    "df = pd.DataFrame({\n",
    "    \"angle_deg\": angles_deg,\n",
    "    \"raw_x\": M_raw[:, 0],\n",
    "    \"raw_y\": M_raw[:, 1],\n",
    "    \"raw_z\": M_raw[:, 2],\n",
    "    \"ref_x\": M_ref_final[:, 0],\n",
    "    \"ref_y\": M_ref_final[:, 1],\n",
    "    \"ref_z\": M_ref_final[:, 2],\n",
    "})\n",
    "\n",
    "df.to_csv(\"calibration_data.csv\", index=False)\n",
    "print(\"✅ Данные сохранены в calibration_data.csv\")"
   ]
  },
  {
   "cell_type": "code",
   "execution_count": 31,
   "id": "c709ac0d",
   "metadata": {},
   "outputs": [
    {
     "data": {
      "text/html": [
       "<div>\n",
       "<style scoped>\n",
       "    .dataframe tbody tr th:only-of-type {\n",
       "        vertical-align: middle;\n",
       "    }\n",
       "\n",
       "    .dataframe tbody tr th {\n",
       "        vertical-align: top;\n",
       "    }\n",
       "\n",
       "    .dataframe thead th {\n",
       "        text-align: right;\n",
       "    }\n",
       "</style>\n",
       "<table border=\"1\" class=\"dataframe\">\n",
       "  <thead>\n",
       "    <tr style=\"text-align: right;\">\n",
       "      <th></th>\n",
       "      <th>angle_deg</th>\n",
       "      <th>raw_x</th>\n",
       "      <th>raw_y</th>\n",
       "      <th>raw_z</th>\n",
       "      <th>ref_x</th>\n",
       "      <th>ref_y</th>\n",
       "      <th>ref_z</th>\n",
       "    </tr>\n",
       "  </thead>\n",
       "  <tbody>\n",
       "    <tr>\n",
       "      <th>0</th>\n",
       "      <td>0</td>\n",
       "      <td>15815.533142</td>\n",
       "      <td>1108.431404</td>\n",
       "      <td>48476.466263</td>\n",
       "      <td>15229.907990</td>\n",
       "      <td>2599.976939</td>\n",
       "      <td>47026.978944</td>\n",
       "    </tr>\n",
       "    <tr>\n",
       "      <th>1</th>\n",
       "      <td>10</td>\n",
       "      <td>14889.660762</td>\n",
       "      <td>3826.155047</td>\n",
       "      <td>48624.516700</td>\n",
       "      <td>14244.411872</td>\n",
       "      <td>5304.950649</td>\n",
       "      <td>47108.128407</td>\n",
       "    </tr>\n",
       "    <tr>\n",
       "      <th>2</th>\n",
       "      <td>20</td>\n",
       "      <td>13503.881128</td>\n",
       "      <td>6327.896249</td>\n",
       "      <td>48757.056860</td>\n",
       "      <td>12803.660651</td>\n",
       "      <td>7798.166646</td>\n",
       "      <td>47175.006453</td>\n",
       "    </tr>\n",
       "    <tr>\n",
       "      <th>3</th>\n",
       "      <td>30</td>\n",
       "      <td>11703.742544</td>\n",
       "      <td>8535.600790</td>\n",
       "      <td>48871.352166</td>\n",
       "      <td>10952.349532</td>\n",
       "      <td>10003.962270</td>\n",
       "      <td>47225.042984</td>\n",
       "    </tr>\n",
       "    <tr>\n",
       "      <th>4</th>\n",
       "      <td>40</td>\n",
       "      <td>9540.372841</td>\n",
       "      <td>10380.778676</td>\n",
       "      <td>48963.709018</td>\n",
       "      <td>8745.777023</td>\n",
       "      <td>11854.656974</td>\n",
       "      <td>47257.306754</td>\n",
       "    </tr>\n",
       "  </tbody>\n",
       "</table>\n",
       "</div>"
      ],
      "text/plain": [
       "   angle_deg         raw_x         raw_y         raw_z         ref_x  \\\n",
       "0          0  15815.533142   1108.431404  48476.466263  15229.907990   \n",
       "1         10  14889.660762   3826.155047  48624.516700  14244.411872   \n",
       "2         20  13503.881128   6327.896249  48757.056860  12803.660651   \n",
       "3         30  11703.742544   8535.600790  48871.352166  10952.349532   \n",
       "4         40   9540.372841  10380.778676  48963.709018   8745.777023   \n",
       "\n",
       "          ref_y         ref_z  \n",
       "0   2599.976939  47026.978944  \n",
       "1   5304.950649  47108.128407  \n",
       "2   7798.166646  47175.006453  \n",
       "3  10003.962270  47225.042984  \n",
       "4  11854.656974  47257.306754  "
      ]
     },
     "execution_count": 31,
     "metadata": {},
     "output_type": "execute_result"
    }
   ],
   "source": [
    "df.head()"
   ]
  },
  {
   "cell_type": "code",
   "execution_count": null,
   "id": "0faf4d67-73e1-4218-981f-8b49ce045a25",
   "metadata": {},
   "outputs": [],
   "source": []
  }
 ],
 "metadata": {
  "kernelspec": {
   "display_name": "Python 3 (ipykernel)",
   "language": "python",
   "name": "python3"
  },
  "language_info": {
   "codemirror_mode": {
    "name": "ipython",
    "version": 3
   },
   "file_extension": ".py",
   "mimetype": "text/x-python",
   "name": "python",
   "nbconvert_exporter": "python",
   "pygments_lexer": "ipython3",
   "version": "3.13.2"
  }
 },
 "nbformat": 4,
 "nbformat_minor": 5
}
