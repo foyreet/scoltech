{
 "cells": [
  {
   "cell_type": "markdown",
   "id": "1a085f9b",
   "metadata": {},
   "source": [
    "# 🧪 Симуляция данных магнитометра\n",
    "\n",
    "Этот ноутбук моделирует данные эталонного и неоткалиброванного магнитометра для тестирования алгоритмов калибровки."
   ]
  },
  {
   "cell_type": "code",
   "execution_count": null,
   "id": "c3eb3f91",
   "metadata": {},
   "outputs": [],
   "source": [
    "import numpy as np\n",
    "import pandas as pd\n",
    "from scipy.spatial.transform import Rotation as R\n",
    "import matplotlib.pyplot as plt\n",
    "%matplotlib inline"
   ]
  },
  {
   "cell_type": "code",
   "execution_count": null,
   "id": "5cdafd8c",
   "metadata": {},
   "outputs": [],
   "source": [
    "# Смещение (bias), матрица искажений (A), чувствительность и шумы\n",
    "bias = np.array([100.0, -250.0, 600.0])  # нТл\n",
    "\n",
    "A = np.array([\n",
    "    [1.05, 0.02, 0.01],\n",
    "    [0.01, 0.98, -0.03],\n",
    "    [-0.01, 0.02, 1.02]\n",
    "])\n",
    "\n",
    "sensitivity = np.array([0.95, 1.03, 1.00])\n",
    "noise_std = np.array([0.5, 0.5, 0.5])\n",
    "ref_noise_std = 0.2\n",
    "detection_threshold = 1.0\n",
    "rotate_axes = True"
   ]
  },
  {
   "cell_type": "code",
   "execution_count": null,
   "id": "3c5a627c",
   "metadata": {},
   "outputs": [],
   "source": [
    "# Направление и величина геомагнитного поля\n",
    "B_magnitude = 49.5 * 1000  # нТл\n",
    "theta_deg = 70.5\n",
    "phi_deg = 11.98\n",
    "\n",
    "theta = np.radians(theta_deg)\n",
    "phi = np.radians(phi_deg)\n",
    "\n",
    "B_real = np.array([\n",
    "    B_magnitude * np.cos(theta) * np.cos(phi),\n",
    "    B_magnitude * np.cos(theta) * np.sin(phi),\n",
    "    B_magnitude * np.sin(theta)\n",
    "])\n",
    "\n",
    "print(\"B_real =\", B_real)"
   ]
  },
  {
   "cell_type": "code",
   "execution_count": null,
   "id": "9b5e45c6",
   "metadata": {},
   "outputs": [],
   "source": [
    "# Углы поворота стола\n",
    "angles_deg = np.arange(0, 360, 10)\n",
    "angles_rad = np.radians(angles_deg)\n",
    "\n",
    "# Вращение B вокруг оси Z\n",
    "M_ref = np.array([\n",
    "    [\n",
    "        B_real[0] * np.cos(a) - B_real[1] * np.sin(a),\n",
    "        B_real[0] * np.sin(a) + B_real[1] * np.cos(a),\n",
    "        B_real[2]\n",
    "    ]\n",
    "    for a in angles_rad\n",
    "])"
   ]
  },
  {
   "cell_type": "code",
   "execution_count": null,
   "id": "2836d2cd",
   "metadata": {},
   "outputs": [],
   "source": [
    "# Дополнительный поворот осей\n",
    "if rotate_axes:\n",
    "    rot_matrix = R.from_euler('xyz', [2, -1, 3], degrees=True).as_matrix()\n",
    "    M_ref = M_ref @ rot_matrix.T"
   ]
  },
  {
   "cell_type": "code",
   "execution_count": null,
   "id": "6a4cbf85",
   "metadata": {},
   "outputs": [],
   "source": [
    "# Добавление шума и порог чувствительности\n",
    "ref_noise = np.random.normal(0, ref_noise_std, M_ref.shape)\n",
    "M_ref_noisy = M_ref + ref_noise\n",
    "M_ref_final = np.where(np.abs(M_ref_noisy) < detection_threshold, 0, M_ref_noisy)"
   ]
  },
  {
   "cell_type": "code",
   "execution_count": null,
   "id": "bf9f4de9",
   "metadata": {},
   "outputs": [],
   "source": [
    "# Симуляция неоткалиброванного магнитометра\n",
    "bias_temp = np.tile(bias, (len(angles_deg), 1))\n",
    "sensitivity_temp = np.tile(sensitivity, (len(angles_deg), 1))\n",
    "\n",
    "M_raw = M_ref_final * sensitivity_temp\n",
    "M_raw = (M_raw @ A.T) + bias_temp\n",
    "\n",
    "noise = np.random.normal(0, noise_std, M_ref.shape)\n",
    "M_raw += noise"
   ]
  },
  {
   "cell_type": "code",
   "execution_count": null,
   "id": "a0f1cf02",
   "metadata": {},
   "outputs": [],
   "source": [
    "# Сохранение в CSV\n",
    "df = pd.DataFrame({\n",
    "    \"angle_deg\": angles_deg,\n",
    "    \"raw_x\": M_raw[:, 0],\n",
    "    \"raw_y\": M_raw[:, 1],\n",
    "    \"raw_z\": M_raw[:, 2],\n",
    "    \"ref_x\": M_ref_final[:, 0],\n",
    "    \"ref_y\": M_ref_final[:, 1],\n",
    "    \"ref_z\": M_ref_final[:, 2],\n",
    "})\n",
    "\n",
    "df.to_csv(\"calibration_data.csv\", index=False)\n",
    "print(\"✅ Данные сохранены в calibration_data.csv\")"
   ]
  },
  {
   "cell_type": "code",
   "execution_count": null,
   "id": "c709ac0d",
   "metadata": {},
   "outputs": [],
   "source": [
    "df.head()"
   ]
  }
 ],
 "metadata": {},
 "nbformat": 4,
 "nbformat_minor": 5
}